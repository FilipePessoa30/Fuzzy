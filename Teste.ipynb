{
 "cells": [
  {
   "cell_type": "code",
   "execution_count": 1,
   "metadata": {},
   "outputs": [],
   "source": [
    "from PIL import Image\n",
    "img = Image.open(\"132623882_2940025776268895_9131617843404056123_n.png\")\n",
    "img.show()  # Exibe a imagem original\n"
   ]
  },
  {
   "cell_type": "code",
   "execution_count": 9,
   "metadata": {},
   "outputs": [],
   "source": [
    "rgb_img = img.convert(\"RGB\")\n",
    "b, g, r = rgb_img.split()  # Separa as camadas Red, Green, Blue\n",
    "r_data = list(r.getdata())  # Pega os valores dos pixels\n",
    "g_data = list(g.getdata())\n",
    "b_data = list(b.getdata())\n"
   ]
  },
  {
   "cell_type": "code",
   "execution_count": 16,
   "metadata": {},
   "outputs": [],
   "source": [
    "import math\n",
    "\n",
    "def pertinencia_gaussiana(x, c, sigma):\n",
    "    return math.exp(-0.5 * ((x - c) / sigma) ** 2)\n",
    "\n",
    "# Suavização nos canais R, G e B\n",
    "fuzzy_r = [pertinencia_gaussiana(px, 128, 64) for px in r_data]\n",
    "fuzzy_g = [pertinencia_gaussiana(px, 128, 64) for px in g_data]\n",
    "fuzzy_b = [pertinencia_gaussiana(px, 128, 64) for px in b_data]\n"
   ]
  },
  {
   "cell_type": "code",
   "execution_count": 17,
   "metadata": {},
   "outputs": [],
   "source": [
    "fuzzy_output = []\n",
    "for r_fuzzy, g_fuzzy, b_fuzzy in zip(fuzzy_r, fuzzy_g, fuzzy_b):\n",
    "    if r_fuzzy > 0.7 and b_fuzzy < 0.3:\n",
    "        output_color = (255, 0, 255)  # roxo\n",
    "    elif g_fuzzy > 0.5 and r_fuzzy < 0.5:\n",
    "        output_color = (0, 255, 0)  # verde\n",
    "    elif b_fuzzy > 0.7:\n",
    "        output_color = (0, 0, 255)  # azul\n",
    "    else:\n",
    "        # Intermediários suaves, mantendo a proporção fuzzy\n",
    "        output_color = (int(r_fuzzy * 255), int(g_fuzzy * 255), int(b_fuzzy * 255))\n",
    "    fuzzy_output.append(output_color)\n"
   ]
  },
  {
   "cell_type": "code",
   "execution_count": 18,
   "metadata": {},
   "outputs": [],
   "source": [
    "def defuzzificar(fuzzy_value, min_value=0, max_value=255):\n",
    "    return int(fuzzy_value * (max_value - min_value))\n"
   ]
  },
  {
   "cell_type": "code",
   "execution_count": 19,
   "metadata": {},
   "outputs": [],
   "source": [
    "new_img = Image.new(\"RGB\", rgb_img.size)\n",
    "new_img.putdata(fuzzy_output)\n",
    "new_img.show()  # Exibe a imagem fuzzyficada e defuzzificada corretamente\n"
   ]
  },
  {
   "cell_type": "code",
   "execution_count": 23,
   "metadata": {},
   "outputs": [],
   "source": [
    "import numpy as np\n",
    "from PIL import Image\n",
    "\n",
    "# Funções de pertinência gaussianas\n",
    "def pertinencia_gaussiana(x, c, sigma):\n",
    "    return np.exp(-0.5 * ((x - c) / sigma) ** 2)\n",
    "\n",
    "# Função para fuzzyficar o valor\n",
    "def fuzzyficar(pixel, centro=128, sigma=64):\n",
    "    return pertinencia_gaussiana(pixel, centro, sigma)\n",
    "\n",
    "# Defuzzyficação linear\n",
    "def defuzzificar(fuzzy_value, min_value=0, max_value=255):\n",
    "    return int(fuzzy_value * (max_value - min_value) + min_value)\n",
    "\n",
    "# Abrindo a imagem original\n",
    "rgb_img = Image.open(\"132623882_2940025776268895_9131617843404056123_n.png\")\n",
    "rgb_img = rgb_img.convert('RGB')  # Converte para RGB caso não esteja\n",
    "\n",
    "# Extraindo dados de cada canal\n",
    "r_data, g_data, b_data = zip(*list(rgb_img.getdata()))\n",
    "\n",
    "# Fuzzyficação dos canais R, G e B\n",
    "fuzzy_r = [fuzzyficar(r) for r in r_data]\n",
    "fuzzy_g = [fuzzyficar(g) for g in g_data]\n",
    "fuzzy_b = [fuzzyficar(b) for b in b_data]\n",
    "\n",
    "# Defuzzyficação para gerar a imagem final\n",
    "fuzzy_output = [(defuzzificar(r), defuzzificar(g), defuzzificar(b)) for r, g, b in zip(fuzzy_r, fuzzy_g, fuzzy_b)]\n",
    "\n",
    "# Criando uma nova imagem com os valores defuzzyficados\n",
    "new_img = Image.new(\"RGB\", rgb_img.size)\n",
    "new_img.putdata(fuzzy_output)\n",
    "new_img.show()  # Exibe a imagem fuzzyficada e defuzzificada corretamente\n"
   ]
  },
  {
   "cell_type": "code",
   "execution_count": 27,
   "metadata": {},
   "outputs": [],
   "source": [
    "import numpy as np\n",
    "from PIL import Image\n",
    "\n",
    "# Função para fuzzyficar um valor com pertinência linear\n",
    "def fuzzyficar_valor(pixel):\n",
    "    return pixel / 255.0  # Normaliza o valor entre 0 e 1\n",
    "\n",
    "# Função para defuzzyficar com suavização linear\n",
    "def defuzzificar_valor(fuzzy_value):\n",
    "    return int(fuzzy_value * 255)  # Converte de volta para o intervalo 0-255\n",
    "\n",
    "# Carregando a imagem original\n",
    "rgb_img = Image.open(\"132623882_2940025776268895_9131617843404056123_n.png\")\n",
    "rgb_img = rgb_img.convert('RGB')  # Garante que a imagem esteja em RGB\n",
    "\n",
    "# Extraindo dados dos pixels (R, G, B)\n",
    "pixel_data = list(rgb_img.getdata())\n",
    "\n",
    "# Fuzzyficar e defuzzyficar os pixels, canal por canal\n",
    "fuzzy_output = []\n",
    "for pixel in pixel_data:\n",
    "    r_fuzzy = fuzzyficar_valor(pixel[0])\n",
    "    g_fuzzy = fuzzyficar_valor(pixel[1])\n",
    "    b_fuzzy = fuzzyficar_valor(pixel[2])\n",
    "\n",
    "    # Defuzzyficar com suavização\n",
    "    r_defuzz = defuzzificar_valor(r_fuzzy)\n",
    "    g_defuzz = defuzzificar_valor(g_fuzzy)\n",
    "    b_defuzz = defuzzificar_valor(b_fuzzy)\n",
    "\n",
    "    # Adiciona o pixel defuzzyficado na nova lista\n",
    "    fuzzy_output.append((r_defuzz, g_defuzz, b_defuzz))\n",
    "\n",
    "# Criar uma nova imagem com os valores defuzzyficados\n",
    "new_img = Image.new(\"RGB\", rgb_img.size)\n",
    "new_img.putdata(fuzzy_output)\n",
    "new_img.show()  # Exibe a imagem fuzzyficada e defuzzificada\n"
   ]
  }
 ],
 "metadata": {
  "kernelspec": {
   "display_name": "Python 3",
   "language": "python",
   "name": "python3"
  },
  "language_info": {
   "codemirror_mode": {
    "name": "ipython",
    "version": 3
   },
   "file_extension": ".py",
   "mimetype": "text/x-python",
   "name": "python",
   "nbconvert_exporter": "python",
   "pygments_lexer": "ipython3",
   "version": "3.11.9"
  }
 },
 "nbformat": 4,
 "nbformat_minor": 2
}
